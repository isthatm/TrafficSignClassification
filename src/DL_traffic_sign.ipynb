{
 "cells": [
  {
   "cell_type": "code",
   "execution_count": 1,
   "metadata": {},
   "outputs": [],
   "source": [
    "import numpy as np\n",
    "import skimage.io\n",
    "import skimage.transform\n",
    "import matplotlib.pyplot as plt\n",
    "import pandas as pd\n",
    "import shutil, pickle, os, random, matplotlib\n",
    "from PIL import Image, ImageEnhance\n",
    "from sklearn.model_selection import train_test_split\n",
    "import torch\n",
    "import torch.nn.functional as F\n",
    "from torch import nn\n",
    "import configparser\n"
   ]
  },
  {
   "attachments": {},
   "cell_type": "markdown",
   "metadata": {},
   "source": [
    "# <strong>Main</strong>\n"
   ]
  },
  {
   "attachments": {},
   "cell_type": "markdown",
   "metadata": {},
   "source": [
    "## Data \n",
    "The data is converted into RGB tensors with skimage.io.imread()\n",
    "\n",
    "<strong>Notice:</strong> pip install scikit-image "
   ]
  },
  {
   "attachments": {},
   "cell_type": "markdown",
   "metadata": {},
   "source": [
    "### (function) Pickling data "
   ]
  },
  {
   "cell_type": "code",
   "execution_count": 6,
   "metadata": {},
   "outputs": [],
   "source": [
    "def pickle_data(file, writeColumns=None):\n",
    "    \"\"\"\n",
    "    Read/Write pickle training/testing data, models to avoid\n",
    "    loading data again (time consuming)\n",
    "    \n",
    "    ---Params---\n",
    "\n",
    "    file: path to pickle file\n",
    "\n",
    "    writeColumns (array): variables to be saved to pickle file\n",
    "\n",
    "    \"\"\"\n",
    "    if writeColumns is None:\n",
    "        with open(file, mode=\"rb\") as f:\n",
    "            dataset = pickle.load(f)\n",
    "            return tuple(map(lambda col: dataset[col], ['images', 'labels'])) # lambda(col) where columns are the inputs\n",
    "    else:\n",
    "        with open(file, mode=\"wb\") as f:\n",
    "            dataset = pickle.dump({\"images\": writeColumns[0], \"labels\": writeColumns[1]}, f)\n",
    "            print(\"Data is saved in\", file)\n",
    "# lambda function: https://www.youtube.com/watch?v=BcbVe1r2CYc\n"
   ]
  },
  {
   "attachments": {},
   "cell_type": "markdown",
   "metadata": {},
   "source": [
    "### (function) Label the test dataset\n"
   ]
  },
  {
   "cell_type": "code",
   "execution_count": 6,
   "metadata": {},
   "outputs": [],
   "source": [
    "def label_test(src, csv_file, labeled_test_dir, NoOfCategories):\n",
    "    \"\"\"\n",
    "    This function creates named folders corresponding to 43 categories\n",
    "    and move the test images to these folders\n",
    "\n",
    "    `csv_file` and `labeled_test_dir` should have already been in src directly \n",
    "    (create a blank folder to store labeled images)\n",
    "\n",
    "    \"\"\"\n",
    "    # Remove the existing folders in the labeled test directory if there is any\n",
    "    for filename in os.listdir(labeled_test_dir):\n",
    "        file_path = os.path.join(labeled_test_dir, filename)\n",
    "        try:\n",
    "            if os.path.isfile(file_path) or os.path.islink(file_path):\n",
    "                os.unlink(file_path)\n",
    "            elif os.path.isdir(file_path):\n",
    "                shutil.rmtree(file_path)\n",
    "        except Exception as e:\n",
    "            print('Failed to delete %s. Reason: %s' % (file_path, e))\n",
    "\n",
    "    csv_dir = os.path.join(src, csv_file)\n",
    "    SubTestDir = [os.path.join(labeled_test_dir, str(d)) for d in range(NoOfCategories)]\n",
    "    \n",
    "    # Create label folders\n",
    "    [os.mkdir(test_d) for test_d in SubTestDir]\n",
    "\n",
    "    testImageDir = pd.read_csv(csv_dir)['Path']\n",
    "    testImageLabel = pd.read_csv(csv_dir)['ClassId']\n",
    "    for idx in range(len(testImageLabel)):\n",
    "        label = testImageLabel[idx]\n",
    "        shutil.copy(os.path.join(src, testImageDir[idx]), SubTestDir[label])\n",
    "\n",
    "# labeled_test_dir = \"D:\\Programming Files\\Python Files\\Deep learning - traffic signs\\German\\LabeledTest\"\n",
    "labeled_test_dir = r\"C:\\Users\\lemin03\\Documents\\traffic_class\\TrafficSignRec\\German\\Labeled_test\" # BH   \n",
    "# src = \"D:\\Programming Files\\Python Files\\Deep learning - traffic signs\\German\" # BH\n",
    "src = r\"C:\\Users\\lemin03\\Documents\\traffic_class\\TrafficSignRec\\German\"\n",
    "csv_file = \"Test.csv\"\n",
    "NoOfCats = 43\n",
    "\n",
    "label_test(src, csv_file, labeled_test_dir, NoOfCats)\n"
   ]
  },
  {
   "attachments": {},
   "cell_type": "markdown",
   "metadata": {},
   "source": [
    "### (function) Load "
   ]
  },
  {
   "cell_type": "code",
   "execution_count": 8,
   "metadata": {},
   "outputs": [],
   "source": [
    "def load_data(data_dir):\n",
    "    \"\"\"Loads a data set and returns two lists:\n",
    "    \n",
    "    images: a list of Numpy arrays, each representing an image.\n",
    "    labels: a list of numbers that represent the images labels.\n",
    "    \"\"\"\n",
    "    # Get all subdirectories of data_dir. Each represents a label.\n",
    "    directories = [d for d in os.listdir(data_dir) \n",
    "                   if os.path.isdir(os.path.join(data_dir, d))]\n",
    "    # Loop through the label directories and collect the data in\n",
    "    # two lists, labels and images.\n",
    "    labels = []\n",
    "    images = []\n",
    "    for d in directories:\n",
    "        # label_dir contains 61 catefories paths\n",
    "        label_dir = os.path.join(data_dir, d)\n",
    "\n",
    "        # list subdirectories within each of the 61 categories\n",
    "        file_names = [os.path.join(label_dir, f) \n",
    "                      for f in os.listdir(label_dir) if f.endswith(\".png\")]\n",
    "        # For each label, load it's images and add them to the images list.\n",
    "        # And add the label number (i.e. directory name) to the labels list.\n",
    "        for f in file_names:\n",
    "            images.append(skimage.io.imread(f))\n",
    "            labels.append(int(d))\n",
    "    return images, labels\n",
    "\n",
    "# ROOT_PATH = \"D:\\Programming Files\\Python Files\\Deep learning - traffic signs\\German\"\n",
    "ROOT_PATH = r\"C:\\Users\\lemin03\\Documents\\traffic_class\\TrafficSignRec\\German\""
   ]
  },
  {
   "attachments": {},
   "cell_type": "markdown",
   "metadata": {},
   "source": [
    "### Last execution 10:01PM 20/5/23\n",
    "!!!: resized images are already normalized to [0,1] format"
   ]
  },
  {
   "cell_type": "code",
   "execution_count": 9,
   "metadata": {},
   "outputs": [
    {
     "name": "stdout",
     "output_type": "stream",
     "text": [
      "Data is saved in primary_train_dataset\n"
     ]
    }
   ],
   "source": [
    "# Load training dataset.\n",
    "train_data_dir = os.path.join(ROOT_PATH, \"Train\")\n",
    "first_train_images, first_train_labels = load_data(train_data_dir)\n",
    "pickle_data(file = \"primary_train_dataset\", writeColumns = [first_train_images, first_train_labels] )"
   ]
  },
  {
   "cell_type": "code",
   "execution_count": 10,
   "metadata": {},
   "outputs": [
    {
     "name": "stdout",
     "output_type": "stream",
     "text": [
      "Data is saved in primary32_train_dataset\n"
     ]
    }
   ],
   "source": [
    "# Apply constant resolution among train images and pickle them \n",
    "train_images, train_labels  = pickle_data(file = 'primary_train_dataset')\n",
    "\n",
    "train_images = [ skimage.transform.resize(train_image, (32, 32), mode = \"constant\") \n",
    "                            for train_image in train_images ]\n",
    "\n",
    "train_images = np.stack(train_images, axis = 0)\n",
    "\n",
    "pickle_data(file = \"primary32_train_dataset\", writeColumns = [train_images, train_labels])"
   ]
  },
  {
   "cell_type": "code",
   "execution_count": 12,
   "metadata": {},
   "outputs": [
    {
     "name": "stdout",
     "output_type": "stream",
     "text": [
      "Data is saved in primary_test_dataset\n",
      "Data is saved in primary_val_dataset\n"
     ]
    }
   ],
   "source": [
    "# Load the test dataset\n",
    "test_data_dir = os.path.join(ROOT_PATH, \"Labeled_test\")\n",
    "first_test_images, first_test_labels = load_data(test_data_dir)\n",
    "test_images, val_images, test_labels, val_labels = train_test_split(first_test_images, first_test_labels, \n",
    "                                                                        test_size=0.36, random_state=0)\n",
    "pickle_data(file = \"primary_test_dataset\", writeColumns = [test_images, test_labels])\n",
    "pickle_data(file = \"primary_val_dataset\", writeColumns = [val_images, val_labels])"
   ]
  },
  {
   "cell_type": "code",
   "execution_count": 13,
   "metadata": {},
   "outputs": [
    {
     "name": "stdout",
     "output_type": "stream",
     "text": [
      "Data is saved in primary32_test_dataset\n",
      "Data is saved in primary32_val_dataset\n"
     ]
    }
   ],
   "source": [
    "# Apply constant resolution among test,val images and pickle them \n",
    "test_images, test_labels  = pickle_data(file = 'primary_test_dataset')\n",
    "val_images, val_labels  = pickle_data(file = 'primary_val_dataset')\n",
    "\n",
    "test_images = [ skimage.transform.resize(test_image, (32, 32), mode = \"constant\") \n",
    "                            for test_image in test_images ]\n",
    "val_images = [ skimage.transform.resize(val_image, (32, 32), mode = \"constant\") \n",
    "                            for val_image in val_images ]\n",
    "\n",
    "test_images = np.stack(test_images, axis = 0)\n",
    "val_images = np.stack(val_images, axis = 0)\n",
    "\n",
    "pickle_data(file = \"primary32_test_dataset\", writeColumns = [test_images, test_labels])\n",
    "pickle_data(file = \"primary32_val_dataset\", writeColumns = [val_images, val_labels])"
   ]
  },
  {
   "attachments": {},
   "cell_type": "markdown",
   "metadata": {},
   "source": [
    "### Load pickled data"
   ]
  },
  {
   "cell_type": "code",
<<<<<<< HEAD
   "execution_count": 15,
=======
   "execution_count": 7,
>>>>>>> refs/remotes/origin/capsule-network
   "metadata": {},
   "outputs": [],
   "source": [
    "# Program starts here if pickle folders are not updated\n",
    "train_images, train_labels  = pickle_data(file = './Data/primary32_train_dataset')\n",
    "test_images, test_labels  = pickle_data(file = './Data/primary32_test_dataset')\n",
    "val_images, val_labels  = pickle_data(file = './Data/primary32_val_dataset')"
   ]
  },
  {
   "cell_type": "code",
   "execution_count": 16,
   "metadata": {},
   "outputs": [
    {
     "name": "stdout",
     "output_type": "stream",
     "text": [
      "(39209, 32, 32, 3)\n"
     ]
    }
   ],
   "source": [
    "print(train_images.shape)"
   ]
  },
  {
   "attachments": {},
   "cell_type": "markdown",
   "metadata": {},
   "source": [
    "### (function) Display images\n"
   ]
  },
  {
   "cell_type": "code",
   "execution_count": 4,
   "metadata": {},
   "outputs": [],
   "source": [
    "def display_images(images, labels, category=False, greyScale=False):\n",
    "    \"\"\"\n",
    "    Display the first image of each label.\n",
    "    \n",
    "    category: set to True when only images within a category are displayed\n",
    "    greyScale: set to True to display images in grey scale\n",
    "    \"\"\"\n",
    "\n",
    "    if category:\n",
    "        i = 1\n",
    "        startIndex = labels.index(category)\n",
    "        catImages = images[startIndex:(startIndex + labels.count(category))] #catImage = categoryImage\n",
    "        \n",
    "        plt.figure(figsize=(15, 15))\n",
    "        for catImage in catImages[:24]:\n",
    "            plt.subplot(8, 8, i)\n",
    "            plt.xticks([])\n",
    "            plt.yticks([])\n",
    "            plt.imshow(catImage)\n",
    "            i += 1 \n",
    "    else:\n",
    "        unique_labels = set(labels) # Create a list contains only the labels (non-iterative)\n",
    "    \n",
    "        #Example: a = [1, 1, 1, 2, 2, 3]\n",
    "        #set(a) >> {1,2,3}\n",
    "\n",
    "        plt.figure(figsize=(15, 15))\n",
    "        i = 1\n",
    "        for label in unique_labels:\n",
    "            image = images[labels.index(label)] # Pick the first image for each label.\n",
    "\n",
    "        # object.index(element) returns the index of the element specified when it's first encountered\n",
    "        # Example: a = [1, 1, 1, 3, 2, 2, 3]\n",
    "        # a.index(3) = 3\n",
    "\n",
    "            plt.subplot(8, 8, i)  # A grid of 8 rows x 8 columns\n",
    "            plt.xticks([])\n",
    "            plt.yticks([])\n",
    "            plt.title(\"Label {0} ({1})\".format(label, labels.count(label))) # sign category and the # of its samples\n",
    "            if greyScale is False:\n",
    "                plt.imshow(image)\n",
    "            else:\n",
    "                plt.imshow(image, cmap=plt.cm.binary)\n",
    "            i += 1\n",
    "    plt.show()"
   ]
  },
  {
   "attachments": {},
   "cell_type": "markdown",
   "metadata": {},
   "source": [
    "### (function) Convert to grey scale, improve contrast"
   ]
  },
  {
   "cell_type": "code",
<<<<<<< HEAD
   "execution_count": 17,
=======
   "execution_count": 8,
>>>>>>> refs/remotes/origin/capsule-network
   "metadata": {},
   "outputs": [],
   "source": [
    "from skimage import exposure\n",
    "\n",
    "def preprocess_images(images):\n",
    "    \"\"\"\n",
    "        - Convert RGB images to grey scale \n",
    "        - Normalize pixels to 0-1,\n",
    "        - Improve the contrast with adaptive histogram localization\n",
    "    \"\"\"\n",
    "     \n",
    "    # Conver RGB -> grey scale\n",
    "    images = 0.299 * images[:, :, :, 0] + 0.587 * images[:, :, :, 1] + 0.114 * images[:, :, :, 2]\n",
    "    # Improve the contrast\n",
    "    images = exposure.equalize_adapthist(images)\n",
    "\n",
    "    # Add ONE 3-D channel for grey scale\n",
    "    images = images.reshape(images.shape + (1,)) \n",
    "\n",
    "    return images"
   ]
  },
  {
   "cell_type": "code",
   "execution_count": 6,
   "metadata": {},
   "outputs": [
    {
     "name": "stdout",
     "output_type": "stream",
     "text": [
      "(32, 32)\n"
     ]
    },
    {
     "data": {
      "text/plain": [
       "<matplotlib.image.AxesImage at 0x211e2fe3130>"
      ]
     },
     "execution_count": 6,
     "metadata": {},
     "output_type": "execute_result"
    },
    {
     "data": {
      "image/png": "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",
      "text/plain": [
       "<Figure size 640x480 with 1 Axes>"
      ]
     },
     "metadata": {},
     "output_type": "display_data"
    }
   ],
   "source": [
    "a = train_images[0]\n",
    "# print(a.shape)\n",
    "a = 0.299 * a[:, :, 0] + 0.587 * a[:, :, 1] + 0.114 * a[:, :, 2]\n",
    "print(a.shape)\n",
    "a = exposure.equalize_adapthist(a)\n",
    "a = a.reshape(a.shape + (1,)) \n",
    "plt.imshow(a,cmap=plt.cm.binary)\n"
   ]
  },
  {
   "cell_type": "code",
   "execution_count": null,
   "metadata": {},
   "outputs": [],
   "source": [
    "# Display all images \n",
    "display_images(preprocess_images(train_images, improveCon=True), train_labels, greyScale=True)"
   ]
  },
  {
   "cell_type": "code",
   "execution_count": null,
   "metadata": {},
   "outputs": [],
   "source": [
    "# Display all images \n",
    "display_images(preprocess_images(train_images), train_labels)"
   ]
  },
  {
   "attachments": {},
   "cell_type": "markdown",
   "metadata": {},
   "source": [
    "### Classes distribution"
   ]
  },
  {
   "cell_type": "code",
   "execution_count": 8,
   "metadata": {},
   "outputs": [
    {
     "data": {
      "text/plain": [
       "Text(0, 0.5, 'Number of images')"
      ]
     },
     "execution_count": 8,
     "metadata": {},
     "output_type": "execute_result"
    },
    {
     "data": {
      "image/png": "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",
      "text/plain": [
       "<Figure size 640x480 with 1 Axes>"
      ]
     },
     "metadata": {},
     "output_type": "display_data"
    }
   ],
   "source": [
    "fig, ax = plt.subplots()\n",
    "n_classes = len(set(train_labels))\n",
    "values, bins, patches = ax.hist(train_labels, n_classes)\n",
    "ax.set_xlabel(\"Classes\")\n",
    "ax.set_ylabel(\"Number of images\")"
   ]
  },
  {
   "attachments": {},
   "cell_type": "markdown",
   "metadata": {},
   "source": [
    "## Data Augmentation"
   ]
  },
  {
   "cell_type": "code",
   "execution_count": 6,
   "metadata": {},
   "outputs": [
    {
     "name": "stdout",
     "output_type": "stream",
     "text": [
      "(32, 32, 1)\n",
      "(32, 32, 1)\n",
      "(32, 32, 1)\n",
      "(32, 32, 1)\n",
      "(32, 32, 1)\n",
      "(32, 32, 1)\n",
      "(32, 32, 1)\n",
      "(32, 32, 1)\n",
      "(32, 32, 1)\n"
     ]
    },
    {
     "data": {
      "image/png": "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",
      "text/plain": [
       "<Figure size 640x480 with 9 Axes>"
      ]
     },
     "metadata": {},
     "output_type": "display_data"
    }
   ],
   "source": [
    "from keras.preprocessing.image import ImageDataGenerator\n",
    "\n",
    "X_train = train_images\n",
    "\n",
    "train_datagen = ImageDataGenerator()\n",
    "inference_datagen = ImageDataGenerator()\n",
    "train_datagen_augmented = ImageDataGenerator(\n",
    "    rotation_range=20,\n",
    "    shear_range=0.2,\n",
    "    width_shift_range=0.2,\n",
    "    height_shift_range=0.2,\n",
    "    horizontal_flip=True)\n",
    "train_datagen.fit(X_train)\n",
    "train_datagen_augmented.fit(X_train)\n",
    "fig = plt.figure()\n",
    "n = 0\n",
    "graph_size = 3\n",
    "\n",
    "for x_batch, y_batch in train_datagen_augmented.flow(X_train, train_labels, batch_size=4):\n",
    "    a=fig.add_subplot(graph_size, graph_size, n+1)\n",
    "    greyBatch = preprocess_images(x_batch)\n",
    "    print(greyBatch[0].shape)\n",
    "    imgplot = plt.imshow(greyBatch[0])\n",
    "    plt.xticks([])\n",
    "    plt.yticks([])\n",
    "    plt.title(\"Label:{}\".format(y_batch[0]))\n",
    "    n = n + 1\n",
    "    if n > 8:\n",
    "        break\n",
    "# plt.show()"
   ]
  },
  {
   "attachments": {},
   "cell_type": "markdown",
   "metadata": {},
   "source": [
    "## Model\n"
   ]
  },
  {
   "attachments": {},
   "cell_type": "markdown",
   "metadata": {},
   "source": [
    "### Capsule layer attributes\n",
    "TODO:\n",
    "- build a simple conv layer: DONE (first conv layer with relu)\n",
    "- build capsule's functions (squash, routing)\n",
    "- build primary and secondary capsnet\n",
    "- fully connected layer for reconstruction\n",
    "- loss functions\n",
    "- add visualizations to track the changes in prior logits, training loss"
   ]
  },
  {
   "cell_type": "code",
   "execution_count": 14,
   "metadata": {},
   "outputs": [
    {
     "name": "stdout",
     "output_type": "stream",
     "text": [
      "cpu will be used\n",
      "torch.Size([1, 1, 32, 32])\n",
      "torch.Size([1, 1, 32, 32])\n",
      "torch.Size([1, 1, 32, 32])\n"
     ]
    },
    {
     "name": "stderr",
     "output_type": "stream",
     "text": [
      "C:\\Users\\Admin\\AppData\\Local\\Temp\\ipykernel_3348\\1775738401.py:177: UserWarning: To copy construct from a tensor, it is recommended to use sourceTensor.clone().detach() or sourceTensor.clone().detach().requires_grad_(True), rather than torch.tensor(sourceTensor).\n",
      "  greyBatch = torch.tensor(greyBatch.permute(0, 3, 1, 2)) # [batch_size, channels, height, width]\n"
     ]
    },
    {
     "data": {
      "text/plain": [
       "<Figure size 640x480 with 0 Axes>"
      ]
     },
     "metadata": {},
     "output_type": "display_data"
    }
   ],
   "source": [
    "# Currently this network only supports grey scale imgage due to fully connected reconstruction layer\n",
    "\n",
    "from sklearn.utils import shuffle\n",
    "from keras.preprocessing.image import ImageDataGenerator\n",
    "\n",
    "config = configparser.ConfigParser()\n",
    "config.read(\n",
    "    'D:\\Programming Files\\Python Files\\Deep learning - traffic signs\\src\\capsnet_config.ini'\n",
    "    )\n",
    "\n",
    "# General info\n",
    "num_class = config['network']['num_class']\n",
    "img_channels = config['network']['image_channels']\n",
    "batch_size = config['network']['batch_size']\n",
    "\n",
    "# Primary caps\n",
    "primary_num_caps = config['primary_caps']['num_caps']\n",
    "primary_channels = config['primary_caps']['channels']\n",
    "\n",
    "# Digit caps\n",
    "digit_num_caps = num_class\n",
    "digit_channels = config['digit_caps']['channels']\n",
    "num_iterations = config['network']['num_routing_iter']\n",
    "\n",
    "# Loss hyper params\n",
    "m_plus = config['loss']['m_plus']\n",
    "m_minus = config['loss']['m_minus']\n",
    "lmbd = config['loss']['lambda']\n",
<<<<<<< HEAD
    "regularization_factor = config['loss']['regularization_factor']\n",
=======
>>>>>>> refs/remotes/origin/capsule-network
    "\n",
    "shuffeled_train_images, shuffeled_train_labels = shuffle(train_images, train_labels, random_state=0)\n",
    "demo_train_images = shuffeled_train_images[0:1]\n",
    "demo_train_labels = shuffeled_train_labels[0:1]\n",
    "X_train = demo_train_images\n",
    "\n",
    "train_datagen = ImageDataGenerator()\n",
    "inference_datagen = ImageDataGenerator()\n",
    "train_datagen_augmented = ImageDataGenerator(\n",
    "    rotation_range=20,\n",
    "    shear_range=0.2,\n",
    "    width_shift_range=0.2,\n",
    "    height_shift_range=0.2,\n",
    "    horizontal_flip=True)\n",
    "train_datagen.fit(X_train)\n",
    "train_datagen_augmented.fit(X_train)\n",
    "\n",
    "def squash(vector, axis=-1 ,epsilon=1e-7, squash=True):\n",
    "        \"\"\"\n",
    "        normalize the length of the vector by 1\n",
    "        `vector`: the muliplication of coupling coefs and prediction vectors sum [ c(ij)u^(j|i) ]\n",
    "        `axis`: the axis that would not be reduced\n",
    "        'epsilon`: a workaround to prevent devision by zero\n",
    "        \"\"\"\n",
    "        squared_norm = torch.sum(torch.square(vector), dim=axis, \n",
    "                                keepdim=True)\n",
    "        safe_norm = torch.sqrt(squared_norm + epsilon)\n",
    "\n",
    "        if squash:\n",
    "            squash_factor = squared_norm / (1. + squared_norm)\n",
    "            unit_vector = vector / safe_norm\n",
    "            return squash_factor * unit_vector\n",
    "        else:\n",
    "            return safe_norm\n",
    "\n",
    "\n",
    "class capsLayers(nn.Module):\n",
    "\n",
    "    \"\"\" \n",
    "    Args:\n",
    "    :param num_conv: number of filters/convolutional unit per capsule (dimension of a capsule)\n",
    "    :param num_capsules: number of primary/digit caps\n",
    "    :param num_routing_nodes: number of possible u(i), \n",
    "                            set to -1 if it's not a secondary capsule layer\n",
    "    :param in_channels: output convolutional layers of the prev layer\n",
    "    :param out_channels: output convolutional layers of the current layer\n",
    "    \"\"\"\n",
    "    def __init__(self, num_capsules: int, in_channels: int, out_channels: int, \n",
    "                 kernel_size=None, stride=None, num_routing_nodes=None ,num_iterations=None):\n",
    "        super(capsLayers, self).__init__()\n",
    "        self.num_capsules = num_capsules\n",
    "        \n",
    "        self.num_iterations = num_iterations\n",
    "\n",
    "        if num_routing_nodes is not None:\n",
    "            self.num_routing_nodes = num_routing_nodes\n",
    "            self.weights = nn.Parameter(torch.randn(\n",
    "                                        num_routing_nodes, num_capsules, out_channels, in_channels))\n",
    "            self.b = nn.Parameter(torch.zeros(\n",
    "                                    num_routing_nodes, num_capsules, 1, 1))\n",
    "\n",
    "        else:\n",
    "            self.primary_caps = nn.ModuleList(nn.Conv2d(in_channels, out_channels, kernel_size, stride) \n",
    "                                                    for _ in range(num_capsules))\n",
    "\n",
    "    def forward(self, inputs):\n",
    "        \"\"\"\n",
    "        Feed foward function for non-reconstruction layer\n",
    "        :param inputs: \n",
    "            for the primary caps, the inputs are convolutional layer pixels\n",
    "            for digit caps, the inputs are n-D vectors from a primary cap\n",
    "                where n is the # of filters for one capsule  \n",
    "            Required Paramteters:\n",
    "            prior_logits(b) \n",
    "            primary layer prediction (requires u-layer 1 ouput, Weights)\n",
    "        \"\"\"\n",
    "        if self.num_routing_nodes is not None:\n",
    "            weights = self.weights[None, :, :, :].tile(inputs.size(0), 1, 1, 1, 1)\n",
    "            b_ij = self.b[None, :, :, :].tile(inputs.size(0), 1, 1, 1, 1)\n",
    "            inputs = inputs.tile(1, 1, self.num_capsules, 1, 1)\n",
    "            \n",
    "            # u_hat = [batch, num_routing_nodes, # digit_caps, digit_caps_dims, 1]\n",
    "            u_hat = weights @ inputs \n",
    "\n",
    "            for i in range(self.num_iterations):\n",
    "                c_ij = F.softmax(b_ij, dim=2)\n",
    "                outputs = self.squash((c_ij*u_hat).sum(dim=1, keepdim=True))\n",
    "\n",
    "                if i < self.num_iterations - 1 :\n",
    "                    # v_j OR outputs = [batch, 1 -> num_routing_nodes, num_digit_caps, digit_caps_dims, 1 )]\n",
    "                    b_ij +=  (b_ij + torch.transpose(u_hat, 3, 4) @ outputs.tile(1, self.num_routing_nodes, 1, 1, 1))\n",
    "\n",
    "        else:\n",
    "            outputs = [\n",
    "                capsule(inputs)[:, None, :, :, :].permute(0, 1, 3, 4, 2) for capsule in self.primary_caps]\n",
    "            outputs = torch.cat(outputs, dim=1)\n",
    "            # u(i) = [batch, num_prim_caps*prim_caps_2D_size, prim_caps_output_dimension]\n",
    "            outputs = outputs.view(outputs.size(0), -1, outputs.size(4)) \n",
    "            outputs = self.squash(outputs)[:, :, None, :, None]\n",
    "        \n",
    "        # outputs = [batch, 1, num_digit_caps/num_class, digit_caps_dims, 1 )]\n",
    "        return outputs            \n",
    "\n",
    "\n",
    "class CapsNet(nn.Module):\n",
    "    \"\"\"\n",
    "        This class contains the full CapsNet architecture:\n",
    "        \n",
    "        Convolutional -> primary capsules -> digit capsules -> (3) fully connected\n",
    "    \"\"\"\n",
    "    def __init__(self):\n",
    "        \"\"\"\n",
    "        Params: \n",
    "        `inputs`: a 4D tensor (grey scale or RGB)\n",
    "        \"\"\"\n",
    "        super(CapsNet, self).__init__()\n",
    "\n",
    "        self.conv_1 = nn.Conv2d(in_channels=img_channels, out_channels=256, #TODO: !!! `in_channels` depends on grey scale/RGB image\n",
    "                                kernel_size=9, stride=1)\n",
    "        self.primary_caps = capsLayers(primary_num_caps, 256, primary_channels, \n",
    "                                        kernel_size=5, stride=2)\n",
    "        self.digit_caps = capsLayers(digit_num_caps, primary_channels, digit_channels, \n",
    "                                     num_routing_nodes=10*10*primary_num_caps, num_iterations=num_iterations)\n",
    "        self.grey_scale_decoder = nn.Sequential(\n",
    "                    nn.Linear(digit_channels*digit_num_caps, 576, device='cuda'),\n",
    "                    nn.ReLU(),\n",
    "                    nn.Linear(576, 1600, device='cuda'),\n",
    "                    nn.ReLU(),\n",
    "                    nn.Linear(1600, 1024, device='cuda'),\n",
    "                    nn.Sigmoid()\n",
    "        )\n",
    "\n",
    "    def forward(self, images, labels=None): # labels should be applied `one_hot` function\n",
    "                                            # before being used in this forward method\n",
    "        conv_1_ouputs = F.relu(self.conv_1(images))\n",
    "        primary_caps_outputs =  self.primary_caps(conv_1_ouputs)\n",
    "        digit_caps_outputs = self.digit_caps(primary_caps_outputs).squeeze(1)\n",
    "        \n",
    "        assert list(digit_caps_outputs.size()) == [images.size()[0], num_class, digit_channels, 1]\n",
    "               \n",
    "        v_norm = squash(digit_caps_outputs, axis=-2, squash=False)\n",
    "        v_prob = F.softmax(v_norm, dim=1)\n",
    "\n",
<<<<<<< HEAD
    "        self.img = images\n",
    "        self.v_norm = v_norm\n",
    "\n",
    "        # Masking\n",
    "        if labels is None:\n",
    "            _, idx = torch.max(v_prob, dim=1)\n",
    "            labels = torch.eye(num_class).index_select(dim=0, index = idx.squeeze())\n",
    "        \n",
    "        masked_v = labels[:, :, None, None] * digit_caps_outputs\n",
    "        \n",
    "        # Reconstruction\n",
    "        if images.size()[-1] == 1:\n",
    "            reconstructed_img = self.grey_scale_decoder(masked_v)\n",
    "\n",
    "        else:\n",
    "            # RGB decoder\n",
    "            pass\n",
    "    \n",
    "        return reconstructed_img \n",
    "        \n",
    "\n",
    "    def total_loss(self, reconstructed_img, labels): # TODO: convert these inputs to self. in def forward()\n",
    "        # Margin loss\n",
    "        max_1 = F.relu(m_plus - self.v_norm)\n",
    "        max_2 = F.relu(self.v_norm - m_minus)\n",
    "        T_k = labels[:, :, None, None]\n",
    "        \n",
    "        L_k = T_k * torch.square(max_1) + lmbd * (1 - T_k) * torch.square(max_2)\n",
    "\n",
    "        assert L_k.size() == self.v_norm.size()\n",
    "        margin_loss = L_k.sum(dim=1).mean()\n",
    "        \n",
    "        # Reconstruction loss\n",
    "        reconstruction_loss_obj = nn.MSELoss()\n",
    "\n",
    "        # original_img = [batch size, flatten image (pixels are flatten into arrays)]\n",
    "        original_img = self.img.view(batch_size, -1)\n",
    "        reconstruction_loss = reconstruction_loss_obj(reconstructed_img, original_img)\n",
    "        \n",
    "        total_loss = margin_loss + regularization_factor * reconstruction_loss\n",
    "\n",
    "        return total_loss\n",
    "   \n",
=======
    "        self.images = images\n",
    "        self.v_norm = v_norm\n",
    "\n",
    "        # Masking\n",
    "        if labels is None:\n",
    "            _, idx = torch.max(v_prob, dim=1)\n",
    "            labels = torch.eye(num_class).index_select(dim=0, index = idx.squeeze())\n",
    "        \n",
    "        masked_v = labels[:, :, None, None] * digit_caps_outputs\n",
    "\n",
    "    def total_loss(self, labels): # TODO: convert these inputs to self. in def forward()\n",
    "        # Margin loss\n",
    "        max_1 = F.relu(m_plus - self.v_norm)\n",
    "        max_2 = F.relu(self.v_norm - m_minus)\n",
    "        T_k = labels[:, :, None, None]\n",
    "        \n",
    "        L_k = T_k * torch.square(max_1) + lmbd * (1 - T_k) * torch.square(max_2)\n",
    "\n",
    "        assert L_k.size() == self.v_norm.size()\n",
    "        margin_loss = L_k.sum(dim=1).mean()\n",
    "        \n",
    "        # Reconstruction loss\n",
    "        \n",
    "\n",
    "        \n",
    "    \n",
>>>>>>> refs/remotes/origin/capsule-network
    "def main():\n",
    "    fig = plt.figure()\n",
    "    device = torch.device(\"cuda\" if torch.cuda.is_available() else \"cpu\")\n",
    "    print(device, \"will be used\")\n",
    "    # model = CapsNet()\n",
    "    n = 0\n",
    "    for x_batch, y_batch in train_datagen_augmented.flow(X_train, demo_train_labels, batch_size=1):\n",
    "        greyBatch = torch.tensor(preprocess_images(x_batch))\n",
    "        # greyBatch = torch.tensor(x_batch)\n",
    "        greyBatch = torch.tensor(greyBatch.permute(0, 3, 1, 2)) # [batch_size, channels, height, width]\n",
    "        # convolved_image = model.forward(greyBatch)\n",
    "        print(greyBatch.size())\n",
    "        # # plt.imshow(convolved_image.data.numpy())\n",
    "        n += 1\n",
    "        if n >2:\n",
    "            break\n",
    "main()\n"
   ]
  },
  {
   "cell_type": "code",
   "execution_count": 34,
   "metadata": {},
   "outputs": [
    {
     "name": "stdout",
     "output_type": "stream",
     "text": [
      "tensor(22.6274)\n",
      "tensor(1600)\n"
     ]
    }
   ],
   "source": [
    "a = torch.tensor(512)\n",
    "b = torch.tensor(40)\n",
    "print(torch.sqrt(a))\n",
    "print(b.pow(2))\n",
    "\n"
   ]
  },
  {
   "cell_type": "code",
   "execution_count": 15,
   "metadata": {},
   "outputs": [
    {
     "name": "stdout",
     "output_type": "stream",
     "text": [
      "tensor([[64., 81., 81.],\n",
      "        [81., 64., 81.],\n",
      "        [81., 81., 64.]])\n",
      "tensor([[64., 81., 81.],\n",
      "        [81., 64., 81.],\n",
      "        [81., 81., 64.]])\n"
     ]
    }
   ],
   "source": [
    "a = torch.eye(3)\n",
    "print(torch.square(F.relu(9 - a)))\n",
    "print(F.relu(9 - a) ** 2)"
   ]
  },
  {
   "attachments": {},
   "cell_type": "markdown",
   "metadata": {},
   "source": [
    "Demo (based on German dataset but matrix sizes are chosen on purpose to match MNIST)"
   ]
  },
  {
   "cell_type": "code",
<<<<<<< HEAD
   "execution_count": 55,
=======
   "execution_count": 11,
>>>>>>> refs/remotes/origin/capsule-network
   "metadata": {},
   "outputs": [
    {
     "name": "stdout",
     "output_type": "stream",
     "text": [
<<<<<<< HEAD
      "tensor([867.0093, 856.8503])\n",
      "tensor(1723.8597) tensor(0.2806)\n",
=======
>>>>>>> refs/remotes/origin/capsule-network
      "torch.Size([2, 10, 1, 1])\n"
     ]
    }
   ],
   "source": [
    "demo_conv = nn.Conv2d(in_channels=3, out_channels=256, kernel_size=13, stride=1) #kernel = 9, stride = 1 for 10x10\n",
    "primary_caps =  nn.ModuleList(nn.Conv2d(256, 8, 9, 2) for _ in range(32))#kernel = 5 or 6, stride = 2 for 10x10\n",
    "\n",
    "def squash(vector, axis=-1, epsilon=1e-7, squash=True):\n",
    "        \"\"\"\n",
    "        normalize the length of the vector by 1\n",
    "        `vector`: the muliplication of coupling coefs and prediction vectors sum [ c(ij)u^(j|i) ]\n",
    "        `axis`: the axis that would not be reduced\n",
    "        'epsilon`: a workaround to prevent devision by zero\n",
    "        \"\"\"\n",
    "        squaredNorm = torch.sum(torch.square(vector), dim=axis, \n",
    "                                keepdim=True)\n",
    "        safeNorm = torch.sqrt(squaredNorm + epsilon)\n",
    "        \n",
    "        if squash:\n",
    "                squashFactor = squaredNorm / (1. + squaredNorm)\n",
    "                unitVector = vector / safeNorm\n",
    "                return squashFactor * unitVector\n",
    "        else:\n",
    "                return squaredNorm\n",
    "\n",
    "def test_routing(inputs, num_capsules, num_routing_nodes, num_iterations ):\n",
    "        b = nn.Parameter(torch.zeros(num_routing_nodes, num_capsules, 1, 1))\n",
    "        weights = nn.Parameter(torch.rand(num_routing_nodes, num_capsules, 16, 8))\n",
    "\n",
    "        weights = weights[None, :, :, :].tile(inputs.size(0), 1, 1, 1, 1)\n",
    "        b_ij = b[None, :, :, :].tile(inputs.size(0), 1, 1, 1, 1)\n",
    "        inputs = inputs.tile(1, 1, num_capsules, 1, 1)\n",
    "  \n",
    "        # u_hat = [batch, num_routing_nodes, # digit_caps, digit_caps_dims, 1]\n",
    "        u_hat = torch.matmul(weights, inputs)\n",
    "    \n",
    "        for i in range(num_iterations):\n",
    "                c_ij = F.softmax(b_ij, dim=2)\n",
    "                v_j = squash((c_ij*u_hat).sum(dim=1, keepdim=True))\n",
    "                \n",
    "                if i < num_iterations - 1 :\n",
    "                        # v_j = [batch, 1 -> num_routing_nodes, num_digit_caps, digit_caps_dims, 1 )]\n",
    "                        b_ij +=  (b_ij + torch.transpose(u_hat, 3, 4) @ v_j.tile(1, num_routing_nodes, 1, 1, 1))\n",
    "\n",
    "        return v_j \n",
    "\n",
    "def main():\n",
    "        a = torch.Tensor(train_images[0]) # RGB images\n",
    "        b = torch.Tensor(train_images[1])\n",
    "        c = torch.stack((a,b), dim=0) # create a batch of 2 images\n",
<<<<<<< HEAD
    "        d = c.view(c.size(0), -1)\n",
    "        e = torch.ones(d.size())\n",
    "\n",
    "        err = d - e\n",
    "        err_square = torch.square(err)\n",
    "        # print(err_square.size())\n",
    "        print(err_square.sum(dim=1)) #.mean())\n",
    "        \n",
    "        loss1 = nn.MSELoss(reduction='sum')\n",
    "        loss2 = nn.MSELoss(reduction='mean')\n",
    "\n",
    "        print(loss1(d, e), loss2(d, e))\n",
    "\n",
=======
>>>>>>> refs/remotes/origin/capsule-network
    "        num_categories = 10\n",
    "        conv_output = demo_conv(c.permute(0, 3, 1, 2))\n",
    "        # ouputs -> list: len(list) = num_caps, outputs elements -> tensor: size (1,8,10,10)\n",
    "        caps_output = [\n",
    "                (cap(conv_output))[:, None, :, :, :].permute(0, 1, 3, 4, 2) for cap in primary_caps]\n",
    "        output = torch.cat(caps_output, dim=1)\n",
    "        output = output.view(output.size(0), -1, output.size(4))\n",
    "        output = squash(output)[:, :, None, :, None]\n",
    "        # print(conv_output.size(), output.size())\n",
    "\n",
    "        #routing\n",
    "        v_j = test_routing(output, 10, 1152, 3).squeeze(1)\n",
    "        v_j_norm = squash(v_j, axis=-2, squash=False)\n",
    "        v_softmax = F.softmax(v_j_norm, dim=1)\n",
    "        # if y is None:\n",
    "        v_active, idx = torch.max(v_softmax, dim=1)\n",
    "        y = torch.eye(10).index_select(dim=0, index = idx.squeeze())\n",
    "        \n",
    "        masked_v = y[:, :, None, None] * v_j\n",
    "        # print(masked_v.size())\n",
    "        print(v_j_norm.size())\n",
<<<<<<< HEAD
    "        assert list(v_j.size()) == [c.size()[0], 10, 16, 1]\n",
    "   \n",
    "main()"
=======
    "        assert list(v_j.size()) == [c.size()[0], 10, 16, 1 ]\n",
    "   \n",
    "main()\n"
>>>>>>> refs/remotes/origin/capsule-network
   ]
  },
  {
   "cell_type": "code",
   "execution_count": 67,
   "metadata": {},
   "outputs": [
    {
     "name": "stdout",
     "output_type": "stream",
     "text": [
      "tensor(12.2868) tensor(24.5736) tensor(1.2287)\n"
     ]
    }
   ],
   "source": [
    "import tensorflow as tf\n",
    "v_norm = torch.rand(2, 10, 1, 1)\n",
    "labels = torch.eye(10).index_select(dim=0, index=torch.tensor([1,3]))[:, :, None, None]\n",
    "\n",
    "max_1 = F.relu(2 - v_norm)\n",
    "\n",
    "L = labels * torch.square(max_1) + 0.5 * (1-labels) * torch.square(max_1)\n",
    "\n",
    "assert v_norm.size() == L.size()\n",
    "\n",
    "print(L.sum(dim=1).mean(), L.sum() , L.squeeze().mean())\n",
    "# print(tf.reduce_mean(tf.reduce_sum(L, axis=1)))"
   ]
  },
  {
   "attachments": {},
   "cell_type": "markdown",
   "metadata": {},
   "source": [
    "# <strong>Miscellaneous</strong>"
   ]
  },
  {
   "attachments": {},
   "cell_type": "markdown",
   "metadata": {},
   "source": [
    "## Super() examples\n",
    "use super to access the characteristics of other classes\n",
    "Ex:\n",
    "super().__init__(mammalName) is equivalent to Class1.__init_(self, mammalName)"
   ]
  },
  {
   "attachments": {},
   "cell_type": "markdown",
   "metadata": {},
   "source": [
    "### Example 1"
   ]
  },
  {
   "cell_type": "code",
   "execution_count": 29,
   "metadata": {},
   "outputs": [
    {
     "name": "stdout",
     "output_type": "stream",
     "text": [
      "Dog has 4 legs.\n",
      "Dog can't swim.\n",
      "Dog can't fly.\n",
      "Dog is a warm-blooded animal.\n",
      "Dog is an animal.\n",
      "<__main__.Dog object at 0x000001824264A0B0>\n"
     ]
    }
   ],
   "source": [
    "class Animal(object):\n",
    "  def __init__(self, Animal):\n",
    "    print(Animal, 'is an animal.')\n",
    "\n",
    "class Mammal(Animal):\n",
    "  def __init__(self, mammalName):\n",
    "    print(mammalName, 'is a warm-blooded animal.')\n",
    "    super().__init__(mammalName)\n",
    "\n",
    "class NonMarineMammal(Mammal):\n",
    "  def __init__(self, NonMarineMammal):\n",
    "    print(NonMarineMammal, \"can't swim.\")\n",
    "    super().__init__(NonMarineMammal)\n",
    "   \n",
    "class NonWingedMammal(Mammal):\n",
    "  def __init__(self, NonWingedMammal):\n",
    "    print(NonWingedMammal, \"can't fly.\")\n",
    "    super().__init__(NonWingedMammal)\n",
    "\n",
    "class Dog(NonMarineMammal, NonWingedMammal):\n",
    "  def __init__(self):\n",
    "    print('Dog has 4 legs.')\n",
    "    super().__init__('Dog')\n",
    "    \n",
    "d = Dog()\n",
    "print(d)\n",
    "# bat = NonMarineMammal('Bat')"
   ]
  },
  {
   "cell_type": "code",
   "execution_count": 2,
   "metadata": {},
   "outputs": [
    {
     "name": "stdout",
     "output_type": "stream",
     "text": [
      "()\n",
      "hi static\n"
     ]
    }
   ],
   "source": [
    "class Parent:\n",
    "  def __init__(self, *txt):\n",
    "    # *args is not a must have input\n",
    "    self.message = txt\n",
    "\n",
    "  def printmessage(self):\n",
    "    print(self.message)\n",
    "\n",
    "  @staticmethod\n",
    "  def printmessage2(text):\n",
    "    print(text)\n",
    "\n",
    "\n",
    "class Child(Parent):\n",
    "  def __init__(self, txt: str, num):\n",
    "    self.num = num\n",
    "    super(Child, self).__init__()\n",
    "    self.printmessage()\n",
    "  \n",
    "  def call_static(self, msg):\n",
    "    self.printmessage2(msg)\n",
    "\n",
    "x = Child(\"Hello, and welcome!\", 2)\n",
    "\n",
    "x.printmessage2(\"hi static\") # another way to call Parent's method"
   ]
  },
  {
   "attachments": {},
   "cell_type": "markdown",
   "metadata": {},
   "source": [
    "### Example 2"
   ]
  },
  {
   "cell_type": "code",
   "execution_count": 25,
   "metadata": {},
   "outputs": [
    {
     "data": {
      "text/plain": [
       "25"
      ]
     },
     "execution_count": 25,
     "metadata": {},
     "output_type": "execute_result"
    }
   ],
   "source": [
    "class Rectangle(object):\n",
    "    def __init__(self, length, width):\n",
    "        self.length = length\n",
    "        self.width = width\n",
    "\n",
    "    def area(self):\n",
    "        return self.length * self.length\n",
    "\n",
    "    def perimeter(self):\n",
    "        return 2 * self.length + 2 * self.width\n",
    "\n",
    "# Here we declare that the Square class inherits from the Rectangle class\n",
    "class Square(Rectangle):\n",
    "    def __init__(self, length_sqr):\n",
    "        super().__init__(length_sqr, length_sqr)   # length_sqr = length and width of class Rectangle\n",
    "Square(5).area()"
   ]
  },
  {
   "attachments": {},
   "cell_type": "markdown",
   "metadata": {},
   "source": [
    "### PIL module"
   ]
  },
  {
   "cell_type": "code",
   "execution_count": 4,
   "metadata": {},
   "outputs": [
    {
     "data": {
      "text/plain": [
       "<matplotlib.image.AxesImage at 0x2c48f1d0580>"
      ]
     },
     "execution_count": 4,
     "metadata": {},
     "output_type": "execute_result"
    },
    {
     "data": {
      "image/png": "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",
      "text/plain": [
       "<Figure size 640x480 with 1 Axes>"
      ]
     },
     "metadata": {},
     "output_type": "display_data"
    }
   ],
   "source": [
    "\n",
    "a = np.matrix('250 60 143; 90 100 40; 120 150 200')\n",
    "im = Image.fromarray(a) # create a n image object as arrays\n",
    "plt.imshow(im)"
   ]
  },
  {
   "attachments": {},
   "cell_type": "markdown",
   "metadata": {},
   "source": [
    "### Override"
   ]
  },
  {
   "cell_type": "code",
   "execution_count": 40,
   "metadata": {},
   "outputs": [
    {
     "name": "stdout",
     "output_type": "stream",
     "text": [
      "6500\n",
      "5000\n"
     ]
    }
   ],
   "source": [
    "class Employee:\n",
    "    def __init__(self, name, base_pay):\n",
    "        self.name = name\n",
    "        self.base_pay = base_pay\n",
    "\n",
    "    def get_pay(self):\n",
    "        return self.base_pay\n",
    "\n",
    "\n",
    "class SalesEmployee(Employee):\n",
    "    def __init__(self, name, base_pay, sales_incentive):\n",
    "        self.name = name\n",
    "        self.base_pay = base_pay\n",
    "        self.sales_incentive = sales_incentive\n",
    "\n",
    "    def get_pay(self):\n",
    "        return self.base_pay + self.sales_incentive\n",
    "\n",
    "\n",
    "if __name__ == '__main__':\n",
    "    john = SalesEmployee('John', 5000, 1500)\n",
    "    print(john.get_pay())\n",
    "\n",
    "    jane = Employee('Jane', 5000)\n",
    "    print(jane.get_pay())"
   ]
  },
  {
   "attachments": {},
   "cell_type": "markdown",
   "metadata": {},
   "source": [
    "### Dimension visualization"
   ]
  },
  {
   "cell_type": "code",
   "execution_count": 18,
   "metadata": {},
   "outputs": [
    {
     "name": "stdout",
     "output_type": "stream",
     "text": [
      "torch.Size([2, 2, 1])\n",
      "tensor([[[9.6429e-39, 9.2755e-39, 8.4490e-39, 9.2755e-39],\n",
      "         [1.0286e-38, 9.9183e-39, 8.9082e-39, 1.0102e-38],\n",
      "         [1.0102e-38, 2.9389e-39, 2.9388e-39, 1.0469e-38]],\n",
      "\n",
      "        [[9.3674e-39, 9.6429e-39, 2.9389e-39, 9.6429e-39],\n",
      "         [1.0102e-38, 8.4490e-39, 9.9184e-39, 9.2756e-39],\n",
      "         [1.0837e-38, 9.9184e-39, 9.0000e-39, 1.0561e-38]],\n",
      "\n",
      "        [[1.0653e-38, 4.1327e-39, 8.9082e-39, 9.8265e-39],\n",
      "         [9.4592e-39, 1.0561e-38, 1.0653e-38, 1.0469e-38],\n",
      "         [9.5510e-39, 8.7245e-39, 1.0286e-38, 4.2246e-39]]]) tensor([[[10.],\n",
      "         [30.]],\n",
      "\n",
      "        [[50.],\n",
      "         [70.]]])\n"
     ]
    },
    {
     "data": {
      "image/png": "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",
      "text/plain": [
       "<Figure size 640x480 with 1 Axes>"
      ]
     },
     "metadata": {},
     "output_type": "display_data"
    }
   ],
   "source": [
    "input_caps = 3\n",
    "input_dims = 3\n",
    "output_caps = 2\n",
    "output_dims = 2\n",
    "a = torch.Tensor(input_caps, input_dims , output_caps * output_dims)\n",
    "b = torch.Tensor([ [[10], [30]], [[50], [70]] ])\n",
    "print(b.shape)\n",
    "plt.imshow(b, cmap =plt.cm.binary)\n",
    "print(a, b)"
   ]
  },
  {
   "attachments": {},
   "cell_type": "markdown",
   "metadata": {},
   "source": [
    "!!! 4D requires diff inputs compared to 3D"
   ]
  },
  {
   "cell_type": "code",
   "execution_count": null,
   "metadata": {},
   "outputs": [],
   "source": [
    "a = torch.randn(2,2,3)\n",
    "b = torch.randn(2,2,2,3)\n",
    "print(a)\n",
    "print('---------------')\n",
    "print(b)"
   ]
  },
  {
   "attachments": {},
   "cell_type": "markdown",
   "metadata": {},
   "source": [
    "### Convolutional operation"
   ]
  },
  {
   "cell_type": "code",
   "execution_count": null,
   "metadata": {},
   "outputs": [],
   "source": [
    "# Python program to perform 2D convolution operation on an image\n",
    "# Import the required libraries\n",
    "\n",
    "'''input of size [N,C,H, W]\n",
    "N==>batch size,\n",
    "C==> number of channels,\n",
    "H==> height of input planes in pixels,\n",
    "W==> width in pixels.\n",
    "'''\n",
    "\n",
    "import torch\n",
    "import torchvision\n",
    "from PIL import Image\n",
    "import torchvision.transforms as T\n",
    "\n",
    "# Read input image\n",
    "img = Image.open('dogncat.jpg')\n",
    "\n",
    "# convert the input image to torch tensor\n",
    "img = T.ToTensor()(img)\n",
    "print(\"Input image size:\", img.size()) # size = [3, 466, 700]\n",
    "\n",
    "# unsqueeze the image to make it 4D tensor\n",
    "img = img.unsqueeze(0) # image size = [1, 3, 466, 700]\n",
    "# define convolution layer\n",
    "# conv = nn.Conv2d(in_channels, out_channels, kernel_size)\n",
    "conv = torch.nn.Conv2d(3, 3, 2)\n",
    "\n",
    "# apply convolution operation on image\n",
    "img = conv(img)\n",
    "print(img.size())\n",
    "plt.imshow(img[0,:,:,:].detach().numpy())\n",
    "\n",
    "\n",
    "# squeeze image to make it 3D\n",
    "img = img.squeeze(0) #now size is again [3, 466, 700]\n",
    "# convert image to PIL image\n",
    "img = T.ToPILImage()(img)\n",
    "\n",
    "# display the image after convolution\n",
    "img.show()"
   ]
  },
  {
   "attachments": {},
   "cell_type": "markdown",
   "metadata": {},
   "source": [
    "### Primary layer unit test"
   ]
  },
  {
   "cell_type": "code",
   "execution_count": 20,
   "metadata": {},
   "outputs": [
    {
     "name": "stdout",
     "output_type": "stream",
     "text": [
      "[tensor([[0.6143, 0.3787, 0.5638],\n",
      "        [0.0395, 0.3141, 0.1681],\n",
      "        [0.6799, 0.7919, 0.7518]]), tensor([[0.7805, 0.4633, 0.3730],\n",
      "        [0.3183, 0.9282, 0.6647],\n",
      "        [0.7510, 0.8660, 0.0169]]), tensor([[0.4579, 0.7493, 0.9922],\n",
      "        [0.3337, 0.5018, 0.0355],\n",
      "        [0.3054, 0.2082, 0.7689]])]\n",
      "tensor([[0.6143, 0.3787, 0.5638],\n",
      "        [0.0395, 0.3141, 0.1681],\n",
      "        [0.6799, 0.7919, 0.7518],\n",
      "        [0.7805, 0.4633, 0.3730],\n",
      "        [0.3183, 0.9282, 0.6647],\n",
      "        [0.7510, 0.8660, 0.0169],\n",
      "        [0.4579, 0.7493, 0.9922],\n",
      "        [0.3337, 0.5018, 0.0355],\n",
      "        [0.3054, 0.2082, 0.7689]])\n"
     ]
    }
   ],
   "source": [
    "def random_Tensor(size):\n",
    "    return torch.rand(size, size, size)\n",
    "a = [c for c in random_Tensor(3) ]\n",
    "print(a)\n",
    "a = torch.cat(a)\n",
    "print(a)"
   ]
  }
 ],
 "metadata": {
  "kernelspec": {
   "display_name": "DLvenv",
   "language": "python",
   "name": "python3"
  },
  "language_info": {
   "codemirror_mode": {
    "name": "ipython",
    "version": 3
   },
   "file_extension": ".py",
   "mimetype": "text/x-python",
   "name": "python",
   "nbconvert_exporter": "python",
   "pygments_lexer": "ipython3",
   "version": "3.11.4"
  },
  "orig_nbformat": 4
 },
 "nbformat": 4,
 "nbformat_minor": 2
}
